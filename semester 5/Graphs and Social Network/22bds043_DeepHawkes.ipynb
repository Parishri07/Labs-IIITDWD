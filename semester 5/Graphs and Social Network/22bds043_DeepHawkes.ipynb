{
  "nbformat": 4,
  "nbformat_minor": 0,
  "metadata": {
    "colab": {
      "provenance": [],
      "gpuType": "T4"
    },
    "kernelspec": {
      "name": "python3",
      "display_name": "Python 3"
    },
    "language_info": {
      "name": "python"
    },
    "accelerator": "GPU"
  },
  "cells": [
    {
      "cell_type": "code",
      "source": [
        "import pandas as pd\n",
        "import numpy as np\n",
        "from sklearn.preprocessing import MinMaxScaler\n",
        "from sklearn.model_selection import train_test_split\n",
        "from sklearn.metrics import mean_squared_error, mean_absolute_error\n",
        "import matplotlib.pyplot as plt\n",
        "from keras.models import Model\n",
        "from keras.layers import Input, LSTM, Dense, Dropout, Attention, Concatenate\n",
        "from keras.callbacks import EarlyStopping"
      ],
      "metadata": {
        "id": "LSHvZGftHnWQ"
      },
      "execution_count": null,
      "outputs": []
    },
    {
      "cell_type": "code",
      "source": [
        "data = pd.read_csv('/content/data-assignment2.csv')\n",
        "index = pd.read_csv('/content/index-assignment2.csv')\n"
      ],
      "metadata": {
        "id": "Rw233YttI1hz"
      },
      "execution_count": null,
      "outputs": []
    },
    {
      "cell_type": "code",
      "source": [
        "# Initialize an empty list to store combined data\n",
        "combined_data = []\n",
        "\n",
        "# Loop over each row in index_df\n",
        "for _, row in index.iterrows():\n",
        "    tweet_id = row['tweet_id']\n",
        "    post_time_day = row['post_time_day']\n",
        "\n",
        "    # Convert 'start_ind' and 'end_ind' to integers, handling NaNs\n",
        "    start_ind = int(row['start_ind']) if pd.notna(row['start_ind']) else 0  # Replace NaN with 0 or another appropriate value\n",
        "    end_ind = int(row['end_ind']) if pd.notna(row['end_ind']) else 0  # Replace NaN with 0 or another appropriate value\n",
        "\n",
        "    # Ensure start_ind is less than or equal to end_ind\n",
        "    if start_ind <= end_ind:\n",
        "        # Slice the corresponding data from data_df using start and end indices\n",
        "        sliced_data = data.iloc[start_ind:end_ind+1].copy()  # +1 to include the end_ind row\n",
        "\n",
        "        # Add tweet_id and post_time_day to the sliced data\n",
        "        sliced_data['tweet_id'] = tweet_id\n",
        "        sliced_data['post_time_day'] = post_time_day\n",
        "\n",
        "        # Append the combined data to the list\n",
        "        combined_data.append(sliced_data)\n",
        "\n",
        "# Concatenate all the sliced data into a single dataframe\n",
        "df = pd.concat(combined_data, ignore_index=True)\n",
        "\n",
        "df.head()"
      ],
      "metadata": {
        "colab": {
          "base_uri": "https://localhost:8080/",
          "height": 206
        },
        "id": "UgKJpys-LZWG",
        "outputId": "e03972dd-225a-473e-d8bf-56a8b6b51a12"
      },
      "execution_count": null,
      "outputs": [
        {
          "output_type": "execute_result",
          "data": {
            "text/plain": [
              "   relative_time_second  number_of_followers      tweet_id  post_time_day\n",
              "0               84833.0              46828.0  1.224346e+17       0.926644\n",
              "1               84878.0                208.0  1.224346e+17       0.926644\n",
              "2               84883.0                 37.0  1.224346e+17       0.926644\n",
              "3               84900.0                137.0  1.224346e+17       0.926644\n",
              "4               84904.0                254.0  1.224346e+17       0.926644"
            ],
            "text/html": [
              "\n",
              "  <div id=\"df-2fef9fe4-fb05-418d-bf2d-f543873911b6\" class=\"colab-df-container\">\n",
              "    <div>\n",
              "<style scoped>\n",
              "    .dataframe tbody tr th:only-of-type {\n",
              "        vertical-align: middle;\n",
              "    }\n",
              "\n",
              "    .dataframe tbody tr th {\n",
              "        vertical-align: top;\n",
              "    }\n",
              "\n",
              "    .dataframe thead th {\n",
              "        text-align: right;\n",
              "    }\n",
              "</style>\n",
              "<table border=\"1\" class=\"dataframe\">\n",
              "  <thead>\n",
              "    <tr style=\"text-align: right;\">\n",
              "      <th></th>\n",
              "      <th>relative_time_second</th>\n",
              "      <th>number_of_followers</th>\n",
              "      <th>tweet_id</th>\n",
              "      <th>post_time_day</th>\n",
              "    </tr>\n",
              "  </thead>\n",
              "  <tbody>\n",
              "    <tr>\n",
              "      <th>0</th>\n",
              "      <td>84833.0</td>\n",
              "      <td>46828.0</td>\n",
              "      <td>1.224346e+17</td>\n",
              "      <td>0.926644</td>\n",
              "    </tr>\n",
              "    <tr>\n",
              "      <th>1</th>\n",
              "      <td>84878.0</td>\n",
              "      <td>208.0</td>\n",
              "      <td>1.224346e+17</td>\n",
              "      <td>0.926644</td>\n",
              "    </tr>\n",
              "    <tr>\n",
              "      <th>2</th>\n",
              "      <td>84883.0</td>\n",
              "      <td>37.0</td>\n",
              "      <td>1.224346e+17</td>\n",
              "      <td>0.926644</td>\n",
              "    </tr>\n",
              "    <tr>\n",
              "      <th>3</th>\n",
              "      <td>84900.0</td>\n",
              "      <td>137.0</td>\n",
              "      <td>1.224346e+17</td>\n",
              "      <td>0.926644</td>\n",
              "    </tr>\n",
              "    <tr>\n",
              "      <th>4</th>\n",
              "      <td>84904.0</td>\n",
              "      <td>254.0</td>\n",
              "      <td>1.224346e+17</td>\n",
              "      <td>0.926644</td>\n",
              "    </tr>\n",
              "  </tbody>\n",
              "</table>\n",
              "</div>\n",
              "    <div class=\"colab-df-buttons\">\n",
              "\n",
              "  <div class=\"colab-df-container\">\n",
              "    <button class=\"colab-df-convert\" onclick=\"convertToInteractive('df-2fef9fe4-fb05-418d-bf2d-f543873911b6')\"\n",
              "            title=\"Convert this dataframe to an interactive table.\"\n",
              "            style=\"display:none;\">\n",
              "\n",
              "  <svg xmlns=\"http://www.w3.org/2000/svg\" height=\"24px\" viewBox=\"0 -960 960 960\">\n",
              "    <path d=\"M120-120v-720h720v720H120Zm60-500h600v-160H180v160Zm220 220h160v-160H400v160Zm0 220h160v-160H400v160ZM180-400h160v-160H180v160Zm440 0h160v-160H620v160ZM180-180h160v-160H180v160Zm440 0h160v-160H620v160Z\"/>\n",
              "  </svg>\n",
              "    </button>\n",
              "\n",
              "  <style>\n",
              "    .colab-df-container {\n",
              "      display:flex;\n",
              "      gap: 12px;\n",
              "    }\n",
              "\n",
              "    .colab-df-convert {\n",
              "      background-color: #E8F0FE;\n",
              "      border: none;\n",
              "      border-radius: 50%;\n",
              "      cursor: pointer;\n",
              "      display: none;\n",
              "      fill: #1967D2;\n",
              "      height: 32px;\n",
              "      padding: 0 0 0 0;\n",
              "      width: 32px;\n",
              "    }\n",
              "\n",
              "    .colab-df-convert:hover {\n",
              "      background-color: #E2EBFA;\n",
              "      box-shadow: 0px 1px 2px rgba(60, 64, 67, 0.3), 0px 1px 3px 1px rgba(60, 64, 67, 0.15);\n",
              "      fill: #174EA6;\n",
              "    }\n",
              "\n",
              "    .colab-df-buttons div {\n",
              "      margin-bottom: 4px;\n",
              "    }\n",
              "\n",
              "    [theme=dark] .colab-df-convert {\n",
              "      background-color: #3B4455;\n",
              "      fill: #D2E3FC;\n",
              "    }\n",
              "\n",
              "    [theme=dark] .colab-df-convert:hover {\n",
              "      background-color: #434B5C;\n",
              "      box-shadow: 0px 1px 3px 1px rgba(0, 0, 0, 0.15);\n",
              "      filter: drop-shadow(0px 1px 2px rgba(0, 0, 0, 0.3));\n",
              "      fill: #FFFFFF;\n",
              "    }\n",
              "  </style>\n",
              "\n",
              "    <script>\n",
              "      const buttonEl =\n",
              "        document.querySelector('#df-2fef9fe4-fb05-418d-bf2d-f543873911b6 button.colab-df-convert');\n",
              "      buttonEl.style.display =\n",
              "        google.colab.kernel.accessAllowed ? 'block' : 'none';\n",
              "\n",
              "      async function convertToInteractive(key) {\n",
              "        const element = document.querySelector('#df-2fef9fe4-fb05-418d-bf2d-f543873911b6');\n",
              "        const dataTable =\n",
              "          await google.colab.kernel.invokeFunction('convertToInteractive',\n",
              "                                                    [key], {});\n",
              "        if (!dataTable) return;\n",
              "\n",
              "        const docLinkHtml = 'Like what you see? Visit the ' +\n",
              "          '<a target=\"_blank\" href=https://colab.research.google.com/notebooks/data_table.ipynb>data table notebook</a>'\n",
              "          + ' to learn more about interactive tables.';\n",
              "        element.innerHTML = '';\n",
              "        dataTable['output_type'] = 'display_data';\n",
              "        await google.colab.output.renderOutput(dataTable, element);\n",
              "        const docLink = document.createElement('div');\n",
              "        docLink.innerHTML = docLinkHtml;\n",
              "        element.appendChild(docLink);\n",
              "      }\n",
              "    </script>\n",
              "  </div>\n",
              "\n",
              "\n",
              "<div id=\"df-7b69050a-a736-4ae9-80cb-89baebee9ce9\">\n",
              "  <button class=\"colab-df-quickchart\" onclick=\"quickchart('df-7b69050a-a736-4ae9-80cb-89baebee9ce9')\"\n",
              "            title=\"Suggest charts\"\n",
              "            style=\"display:none;\">\n",
              "\n",
              "<svg xmlns=\"http://www.w3.org/2000/svg\" height=\"24px\"viewBox=\"0 0 24 24\"\n",
              "     width=\"24px\">\n",
              "    <g>\n",
              "        <path d=\"M19 3H5c-1.1 0-2 .9-2 2v14c0 1.1.9 2 2 2h14c1.1 0 2-.9 2-2V5c0-1.1-.9-2-2-2zM9 17H7v-7h2v7zm4 0h-2V7h2v10zm4 0h-2v-4h2v4z\"/>\n",
              "    </g>\n",
              "</svg>\n",
              "  </button>\n",
              "\n",
              "<style>\n",
              "  .colab-df-quickchart {\n",
              "      --bg-color: #E8F0FE;\n",
              "      --fill-color: #1967D2;\n",
              "      --hover-bg-color: #E2EBFA;\n",
              "      --hover-fill-color: #174EA6;\n",
              "      --disabled-fill-color: #AAA;\n",
              "      --disabled-bg-color: #DDD;\n",
              "  }\n",
              "\n",
              "  [theme=dark] .colab-df-quickchart {\n",
              "      --bg-color: #3B4455;\n",
              "      --fill-color: #D2E3FC;\n",
              "      --hover-bg-color: #434B5C;\n",
              "      --hover-fill-color: #FFFFFF;\n",
              "      --disabled-bg-color: #3B4455;\n",
              "      --disabled-fill-color: #666;\n",
              "  }\n",
              "\n",
              "  .colab-df-quickchart {\n",
              "    background-color: var(--bg-color);\n",
              "    border: none;\n",
              "    border-radius: 50%;\n",
              "    cursor: pointer;\n",
              "    display: none;\n",
              "    fill: var(--fill-color);\n",
              "    height: 32px;\n",
              "    padding: 0;\n",
              "    width: 32px;\n",
              "  }\n",
              "\n",
              "  .colab-df-quickchart:hover {\n",
              "    background-color: var(--hover-bg-color);\n",
              "    box-shadow: 0 1px 2px rgba(60, 64, 67, 0.3), 0 1px 3px 1px rgba(60, 64, 67, 0.15);\n",
              "    fill: var(--button-hover-fill-color);\n",
              "  }\n",
              "\n",
              "  .colab-df-quickchart-complete:disabled,\n",
              "  .colab-df-quickchart-complete:disabled:hover {\n",
              "    background-color: var(--disabled-bg-color);\n",
              "    fill: var(--disabled-fill-color);\n",
              "    box-shadow: none;\n",
              "  }\n",
              "\n",
              "  .colab-df-spinner {\n",
              "    border: 2px solid var(--fill-color);\n",
              "    border-color: transparent;\n",
              "    border-bottom-color: var(--fill-color);\n",
              "    animation:\n",
              "      spin 1s steps(1) infinite;\n",
              "  }\n",
              "\n",
              "  @keyframes spin {\n",
              "    0% {\n",
              "      border-color: transparent;\n",
              "      border-bottom-color: var(--fill-color);\n",
              "      border-left-color: var(--fill-color);\n",
              "    }\n",
              "    20% {\n",
              "      border-color: transparent;\n",
              "      border-left-color: var(--fill-color);\n",
              "      border-top-color: var(--fill-color);\n",
              "    }\n",
              "    30% {\n",
              "      border-color: transparent;\n",
              "      border-left-color: var(--fill-color);\n",
              "      border-top-color: var(--fill-color);\n",
              "      border-right-color: var(--fill-color);\n",
              "    }\n",
              "    40% {\n",
              "      border-color: transparent;\n",
              "      border-right-color: var(--fill-color);\n",
              "      border-top-color: var(--fill-color);\n",
              "    }\n",
              "    60% {\n",
              "      border-color: transparent;\n",
              "      border-right-color: var(--fill-color);\n",
              "    }\n",
              "    80% {\n",
              "      border-color: transparent;\n",
              "      border-right-color: var(--fill-color);\n",
              "      border-bottom-color: var(--fill-color);\n",
              "    }\n",
              "    90% {\n",
              "      border-color: transparent;\n",
              "      border-bottom-color: var(--fill-color);\n",
              "    }\n",
              "  }\n",
              "</style>\n",
              "\n",
              "  <script>\n",
              "    async function quickchart(key) {\n",
              "      const quickchartButtonEl =\n",
              "        document.querySelector('#' + key + ' button');\n",
              "      quickchartButtonEl.disabled = true;  // To prevent multiple clicks.\n",
              "      quickchartButtonEl.classList.add('colab-df-spinner');\n",
              "      try {\n",
              "        const charts = await google.colab.kernel.invokeFunction(\n",
              "            'suggestCharts', [key], {});\n",
              "      } catch (error) {\n",
              "        console.error('Error during call to suggestCharts:', error);\n",
              "      }\n",
              "      quickchartButtonEl.classList.remove('colab-df-spinner');\n",
              "      quickchartButtonEl.classList.add('colab-df-quickchart-complete');\n",
              "    }\n",
              "    (() => {\n",
              "      let quickchartButtonEl =\n",
              "        document.querySelector('#df-7b69050a-a736-4ae9-80cb-89baebee9ce9 button');\n",
              "      quickchartButtonEl.style.display =\n",
              "        google.colab.kernel.accessAllowed ? 'block' : 'none';\n",
              "    })();\n",
              "  </script>\n",
              "</div>\n",
              "\n",
              "    </div>\n",
              "  </div>\n"
            ],
            "application/vnd.google.colaboratory.intrinsic+json": {
              "type": "dataframe",
              "variable_name": "df"
            }
          },
          "metadata": {},
          "execution_count": 3
        }
      ]
    },
    {
      "cell_type": "code",
      "source": [
        "df.to_csv('combined_data.csv', index=False)"
      ],
      "metadata": {
        "id": "UWn94FkBxPgL"
      },
      "execution_count": null,
      "outputs": []
    },
    {
      "cell_type": "code",
      "source": [
        "df=pd.read_csv('/content/combined_data.csv')"
      ],
      "metadata": {
        "id": "_rsJoRY2hERb"
      },
      "execution_count": null,
      "outputs": []
    },
    {
      "cell_type": "code",
      "source": [
        "df.columns"
      ],
      "metadata": {
        "colab": {
          "base_uri": "https://localhost:8080/"
        },
        "id": "6Vu-K8hHMZDm",
        "outputId": "1ef02ffc-3ac9-43d5-9d28-494623f6930e"
      },
      "execution_count": null,
      "outputs": [
        {
          "output_type": "execute_result",
          "data": {
            "text/plain": [
              "Index(['relative_time_second', 'number_of_followers', 'tweet_id',\n",
              "       'post_time_day'],\n",
              "      dtype='object')"
            ]
          },
          "metadata": {},
          "execution_count": 3
        }
      ]
    },
    {
      "cell_type": "code",
      "source": [
        "df['cascade_size'] = df.groupby('tweet_id')['tweet_id'].transform('count')"
      ],
      "metadata": {
        "id": "Ve9x7eBVO4zI"
      },
      "execution_count": null,
      "outputs": []
    },
    {
      "cell_type": "code",
      "source": [
        "features = ['relative_time_second', 'number_of_followers']\n",
        "target = 'cascade_size'"
      ],
      "metadata": {
        "id": "yNjowdqD512B"
      },
      "execution_count": null,
      "outputs": []
    },
    {
      "cell_type": "code",
      "source": [
        "df.dropna(subset=features + [target], inplace=True)"
      ],
      "metadata": {
        "id": "bztXa0i754Px"
      },
      "execution_count": null,
      "outputs": []
    },
    {
      "cell_type": "code",
      "source": [
        "scaler = MinMaxScaler()\n",
        "X = scaler.fit_transform(df[features].values)"
      ],
      "metadata": {
        "id": "4wqPmU_P559I"
      },
      "execution_count": null,
      "outputs": []
    },
    {
      "cell_type": "code",
      "source": [
        "y = df[target].values"
      ],
      "metadata": {
        "id": "fsqIHKx158gC"
      },
      "execution_count": null,
      "outputs": []
    },
    {
      "cell_type": "code",
      "source": [
        "# Reshape Data for LSTM with Attention\n",
        "X = X.reshape((X.shape[0], 1, X.shape[1]))  # LSTM input shape: (samples, timesteps, features)"
      ],
      "metadata": {
        "id": "wgLUu-r-QGHv"
      },
      "execution_count": null,
      "outputs": []
    },
    {
      "cell_type": "code",
      "source": [
        "# Split Data into Training and Testing Sets\n",
        "X_train, X_test, y_train, y_test = train_test_split(X, y, test_size=0.2, random_state=42)"
      ],
      "metadata": {
        "id": "hfKZcm96QLZw"
      },
      "execution_count": null,
      "outputs": []
    },
    {
      "cell_type": "code",
      "source": [
        "# Step 4: Define the DeepHawkes Model with Attention Mechanism\n",
        "input_layer = Input(shape=(X_train.shape[1], X_train.shape[2]))"
      ],
      "metadata": {
        "id": "5S1owq3UQQFM"
      },
      "execution_count": null,
      "outputs": []
    },
    {
      "cell_type": "code",
      "source": [
        "# LSTM layers\n",
        "lstm_out = LSTM(64, return_sequences=True)(input_layer)\n",
        "lstm_out = Dropout(0.2)(lstm_out)\n",
        "lstm_out = LSTM(32, return_sequences=True)(lstm_out)\n",
        "lstm_out = Dropout(0.2)(lstm_out)"
      ],
      "metadata": {
        "id": "qt6fV3P2Qnz-"
      },
      "execution_count": null,
      "outputs": []
    },
    {
      "cell_type": "code",
      "source": [
        "# Attention layer\n",
        "attention_layer = Attention()([lstm_out, lstm_out])\n",
        "concat_layer = Concatenate()([lstm_out, attention_layer])"
      ],
      "metadata": {
        "id": "nQKVV9C0Qpwa"
      },
      "execution_count": null,
      "outputs": []
    },
    {
      "cell_type": "code",
      "source": [
        "# Output layer\n",
        "output_layer = Dense(1, activation='linear')(concat_layer)"
      ],
      "metadata": {
        "id": "zXYn8cWcQr0G"
      },
      "execution_count": null,
      "outputs": []
    },
    {
      "cell_type": "code",
      "source": [
        "# Define Model\n",
        "model = Model(inputs=input_layer, outputs=output_layer)"
      ],
      "metadata": {
        "id": "ohs_BkNYQyvd"
      },
      "execution_count": null,
      "outputs": []
    },
    {
      "cell_type": "code",
      "source": [
        "# Compile the Model\n",
        "model.compile(optimizer='adam', loss='mean_squared_error')"
      ],
      "metadata": {
        "id": "nJ6L2W75Q0rN"
      },
      "execution_count": null,
      "outputs": []
    },
    {
      "cell_type": "code",
      "source": [
        "# Step 5: Train the Model with Early Stopping\n",
        "early_stopping = EarlyStopping(monitor='val_loss', patience=10, restore_best_weights=True)"
      ],
      "metadata": {
        "id": "6kgdDQmXQ3HT"
      },
      "execution_count": null,
      "outputs": []
    },
    {
      "cell_type": "code",
      "source": [
        "# Fit the Model\n",
        "history = model.fit(X_train, y_train, epochs=20, batch_size=32, validation_split=0.2, callbacks=[early_stopping])"
      ],
      "metadata": {
        "colab": {
          "base_uri": "https://localhost:8080/"
        },
        "id": "06hiyW43Q6eB",
        "outputId": "cbd24293-19d9-414d-d8fd-934854e408b1"
      },
      "execution_count": null,
      "outputs": [
        {
          "metadata": {
            "tags": null
          },
          "name": "stdout",
          "output_type": "stream",
          "text": [
            "Epoch 1/20\n"
          ]
        },
        {
          "metadata": {
            "tags": null
          },
          "name": "stderr",
          "output_type": "stream",
          "text": [
            "/usr/local/lib/python3.10/dist-packages/keras/src/ops/nn.py:545: UserWarning: You are using a softmax over axis -1 of a tensor of shape (None, 1, 1). This axis has size 1. The softmax operation will always return the value 1, which is likely not what you intended. Did you mean to use a sigmoid instead?\n",
            "  warnings.warn(\n"
          ]
        },
        {
          "metadata": {
            "tags": null
          },
          "name": "stdout",
          "output_type": "stream",
          "text": [
            "\u001b[1m16614/16620\u001b[0m \u001b[32m━━━━━━━━━━━━━━━━━━━\u001b[0m\u001b[37m━\u001b[0m \u001b[1m0s\u001b[0m 6ms/step - loss: 1788710.2500"
          ]
        },
        {
          "metadata": {
            "tags": null
          },
          "name": "stderr",
          "output_type": "stream",
          "text": [
            "/usr/local/lib/python3.10/dist-packages/keras/src/ops/nn.py:545: UserWarning: You are using a softmax over axis -1 of a tensor of shape (32, 1, 1). This axis has size 1. The softmax operation will always return the value 1, which is likely not what you intended. Did you mean to use a sigmoid instead?\n",
            "  warnings.warn(\n"
          ]
        },
        {
          "output_type": "stream",
          "name": "stdout",
          "text": [
            "\u001b[1m16620/16620\u001b[0m \u001b[32m━━━━━━━━━━━━━━━━━━━━\u001b[0m\u001b[37m\u001b[0m \u001b[1m110s\u001b[0m 6ms/step - loss: 1788660.8750 - val_loss: 1519417.2500\n",
            "Epoch 2/20\n",
            "\u001b[1m16620/16620\u001b[0m \u001b[32m━━━━━━━━━━━━━━━━━━━━\u001b[0m\u001b[37m\u001b[0m \u001b[1m132s\u001b[0m 6ms/step - loss: 1522648.6250 - val_loss: 1511824.6250\n",
            "Epoch 3/20\n",
            "\u001b[1m16620/16620\u001b[0m \u001b[32m━━━━━━━━━━━━━━━━━━━━\u001b[0m\u001b[37m\u001b[0m \u001b[1m95s\u001b[0m 6ms/step - loss: 1511216.3750 - val_loss: 1511796.8750\n",
            "Epoch 4/20\n",
            "\u001b[1m16620/16620\u001b[0m \u001b[32m━━━━━━━━━━━━━━━━━━━━\u001b[0m\u001b[37m\u001b[0m \u001b[1m141s\u001b[0m 6ms/step - loss: 1536786.0000 - val_loss: 1511824.5000\n",
            "Epoch 5/20\n",
            "\u001b[1m16620/16620\u001b[0m \u001b[32m━━━━━━━━━━━━━━━━━━━━\u001b[0m\u001b[37m\u001b[0m \u001b[1m145s\u001b[0m 6ms/step - loss: 1543272.2500 - val_loss: 1511913.5000\n",
            "Epoch 6/20\n",
            "\u001b[1m16620/16620\u001b[0m \u001b[32m━━━━━━━━━━━━━━━━━━━━\u001b[0m\u001b[37m\u001b[0m \u001b[1m139s\u001b[0m 6ms/step - loss: 1520221.2500 - val_loss: 1511823.5000\n",
            "Epoch 7/20\n",
            "\u001b[1m16620/16620\u001b[0m \u001b[32m━━━━━━━━━━━━━━━━━━━━\u001b[0m\u001b[37m\u001b[0m \u001b[1m144s\u001b[0m 6ms/step - loss: 1534548.6250 - val_loss: 1511816.3750\n",
            "Epoch 8/20\n",
            "\u001b[1m16620/16620\u001b[0m \u001b[32m━━━━━━━━━━━━━━━━━━━━\u001b[0m\u001b[37m\u001b[0m \u001b[1m140s\u001b[0m 6ms/step - loss: 1535080.0000 - val_loss: 1511811.8750\n",
            "Epoch 9/20\n",
            "\u001b[1m16620/16620\u001b[0m \u001b[32m━━━━━━━━━━━━━━━━━━━━\u001b[0m\u001b[37m\u001b[0m \u001b[1m98s\u001b[0m 6ms/step - loss: 1526048.0000 - val_loss: 1511814.1250\n",
            "Epoch 10/20\n",
            "\u001b[1m16620/16620\u001b[0m \u001b[32m━━━━━━━━━━━━━━━━━━━━\u001b[0m\u001b[37m\u001b[0m \u001b[1m139s\u001b[0m 6ms/step - loss: 1535327.3750 - val_loss: 1511794.1250\n",
            "Epoch 11/20\n",
            "\u001b[1m16620/16620\u001b[0m \u001b[32m━━━━━━━━━━━━━━━━━━━━\u001b[0m\u001b[37m\u001b[0m \u001b[1m142s\u001b[0m 6ms/step - loss: 1521462.3750 - val_loss: 1511784.0000\n",
            "Epoch 12/20\n",
            "\u001b[1m16620/16620\u001b[0m \u001b[32m━━━━━━━━━━━━━━━━━━━━\u001b[0m\u001b[37m\u001b[0m \u001b[1m142s\u001b[0m 6ms/step - loss: 1506338.7500 - val_loss: 1511788.0000\n",
            "Epoch 13/20\n",
            "\u001b[1m16620/16620\u001b[0m \u001b[32m━━━━━━━━━━━━━━━━━━━━\u001b[0m\u001b[37m\u001b[0m \u001b[1m143s\u001b[0m 6ms/step - loss: 1517935.7500 - val_loss: 1511826.3750\n",
            "Epoch 14/20\n",
            "\u001b[1m16620/16620\u001b[0m \u001b[32m━━━━━━━━━━━━━━━━━━━━\u001b[0m\u001b[37m\u001b[0m \u001b[1m96s\u001b[0m 6ms/step - loss: 1527350.6250 - val_loss: 1511827.1250\n",
            "Epoch 15/20\n",
            "\u001b[1m16620/16620\u001b[0m \u001b[32m━━━━━━━━━━━━━━━━━━━━\u001b[0m\u001b[37m\u001b[0m \u001b[1m100s\u001b[0m 6ms/step - loss: 1525720.1250 - val_loss: 1511797.1250\n",
            "Epoch 16/20\n",
            "\u001b[1m16620/16620\u001b[0m \u001b[32m━━━━━━━━━━━━━━━━━━━━\u001b[0m\u001b[37m\u001b[0m \u001b[1m137s\u001b[0m 6ms/step - loss: 1533853.2500 - val_loss: 1511803.2500\n",
            "Epoch 17/20\n",
            "\u001b[1m16620/16620\u001b[0m \u001b[32m━━━━━━━━━━━━━━━━━━━━\u001b[0m\u001b[37m\u001b[0m \u001b[1m96s\u001b[0m 6ms/step - loss: 1517025.0000 - val_loss: 1511788.2500\n",
            "Epoch 18/20\n",
            "\u001b[1m16620/16620\u001b[0m \u001b[32m━━━━━━━━━━━━━━━━━━━━\u001b[0m\u001b[37m\u001b[0m \u001b[1m99s\u001b[0m 6ms/step - loss: 1543326.2500 - val_loss: 1511794.5000\n",
            "Epoch 19/20\n",
            "\u001b[1m16620/16620\u001b[0m \u001b[32m━━━━━━━━━━━━━━━━━━━━\u001b[0m\u001b[37m\u001b[0m \u001b[1m136s\u001b[0m 6ms/step - loss: 1525064.0000 - val_loss: 1511784.6250\n",
            "Epoch 20/20\n",
            "\u001b[1m16620/16620\u001b[0m \u001b[32m━━━━━━━━━━━━━━━━━━━━\u001b[0m\u001b[37m\u001b[0m \u001b[1m100s\u001b[0m 6ms/step - loss: 1524925.5000 - val_loss: 1511813.2500\n"
          ]
        }
      ]
    },
    {
      "cell_type": "code",
      "source": [
        "# Step 6: Evaluate the Model on Test Data\n",
        "y_pred = model.predict(X_test)"
      ],
      "metadata": {
        "colab": {
          "base_uri": "https://localhost:8080/"
        },
        "id": "FYsLZSvsRpI5",
        "outputId": "c1895208-e012-415f-fb31-ab99d3ca11d1"
      },
      "execution_count": null,
      "outputs": [
        {
          "output_type": "stream",
          "name": "stdout",
          "text": [
            "\u001b[1m5194/5194\u001b[0m \u001b[32m━━━━━━━━━━━━━━━━━━━━\u001b[0m\u001b[37m\u001b[0m \u001b[1m9s\u001b[0m 2ms/step\n"
          ]
        }
      ]
    },
    {
      "cell_type": "code",
      "source": [
        "y_pred = y_pred.reshape(y_pred.shape[0], -1)  # Reshape to (number_of_samples, 1)\n",
        "\n",
        "# Calculate Evaluation Metrics\n",
        "mse = mean_squared_error(y_test, y_pred)\n",
        "mae = mean_absolute_error(y_test, y_pred)\n",
        "\n",
        "print(f'Mean Squared Error: {mse}')\n",
        "print(f'Mean Absolute Error: {mae}')"
      ],
      "metadata": {
        "colab": {
          "base_uri": "https://localhost:8080/"
        },
        "id": "hYERT0WARwdg",
        "outputId": "978cfd2e-4954-46d5-95e4-dce74bc25615"
      },
      "execution_count": null,
      "outputs": [
        {
          "output_type": "stream",
          "name": "stdout",
          "text": [
            "Mean Squared Error: 1509693.831341431\n",
            "Mean Absolute Error: 658.8058930214562\n"
          ]
        }
      ]
    },
    {
      "cell_type": "code",
      "source": [
        "# Step 7: Visualize Results\n",
        "plt.figure(figsize=(12, 6))\n",
        "plt.plot(y_test, label='Actual Cascade Size', color='blue', alpha=0.6)\n",
        "plt.plot(y_pred, label='Predicted Cascade Size', color='orange', alpha=0.6)\n",
        "plt.title('Actual vs Predicted Cascade Size (DeepHawkes)')\n",
        "plt.xlabel('Sample Index')\n",
        "plt.ylabel('Cascade Size')\n",
        "plt.legend()\n",
        "plt.show()"
      ],
      "metadata": {
        "colab": {
          "base_uri": "https://localhost:8080/",
          "height": 564
        },
        "id": "CsoCr5nERzwa",
        "outputId": "2143fee9-fa46-46b7-a5aa-01612e2ecfd7"
      },
      "execution_count": null,
      "outputs": [
        {
          "output_type": "display_data",
          "data": {
            "text/plain": [
              "<Figure size 1200x600 with 1 Axes>"
            ],
            "image/png": "[encoded data removed]"
          },
          "metadata": {}
        }
      ]
    }
  ]
}