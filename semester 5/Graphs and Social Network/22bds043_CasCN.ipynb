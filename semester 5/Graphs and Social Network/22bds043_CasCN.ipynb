{
  "nbformat": 4,
  "nbformat_minor": 0,
  "metadata": {
    "colab": {
      "provenance": [],
      "gpuType": "T4"
    },
    "kernelspec": {
      "name": "python3",
      "display_name": "Python 3"
    },
    "language_info": {
      "name": "python"
    },
    "accelerator": "GPU"
  },
  "cells": [
    {
      "cell_type": "markdown",
      "source": [
        "**Key Characteristics of CasCN:**\n",
        "\n",
        "1. Temporal Convolutions: CasCN applies CNN layers on time-series data to detect temporal dependencies and capture local features within time windows.\n",
        "\n",
        "2. Pooling Layers: By using pooling operations, it reduces the dimensionality and retains significant features, aiding generalization and computational efficiency.\n",
        "\n",
        "3. Flattening and Dense Layers: After convolutional and pooling layers, CasCN flattens the data and feeds it through dense (fully connected) layers, enabling it to learn nonlinear relationships between features for final predictions."
      ],
      "metadata": {
        "id": "-ootK6idyVKg"
      }
    },
    {
      "cell_type": "code",
      "execution_count": null,
      "metadata": {
        "id": "62en9kilv9Nw"
      },
      "outputs": [],
      "source": [
        "import pandas as pd\n",
        "import numpy as np\n",
        "from sklearn.preprocessing import MinMaxScaler\n",
        "from sklearn.model_selection import train_test_split\n",
        "from sklearn.metrics import mean_squared_error, mean_absolute_error\n",
        "import matplotlib.pyplot as plt\n",
        "from keras.models import Model\n",
        "from keras.layers import Input, Conv1D, MaxPooling1D, Flatten, Dense, Dropout\n",
        "from keras.callbacks import EarlyStopping"
      ]
    },
    {
      "cell_type": "code",
      "source": [
        "df = pd.read_csv('/content/combined_data.csv')"
      ],
      "metadata": {
        "id": "1kCCySFpwjNX"
      },
      "execution_count": null,
      "outputs": []
    },
    {
      "cell_type": "code",
      "source": [
        "# Step 2: Create Cascade Size\n",
        "# Derive cascade size by counting occurrences of each tweet_id\n",
        "df['cascade_size'] = df.groupby('tweet_id')['tweet_id'].transform('count')"
      ],
      "metadata": {
        "id": "mknPsUuUwthh"
      },
      "execution_count": null,
      "outputs": []
    },
    {
      "cell_type": "code",
      "source": [
        "# Step 3: Preprocessing\n",
        "# Feature Selection\n",
        "features = ['relative_time_second', 'number_of_followers']\n",
        "target = 'cascade_size'"
      ],
      "metadata": {
        "id": "3MxxMwmgwyj6"
      },
      "execution_count": null,
      "outputs": []
    },
    {
      "cell_type": "code",
      "source": [
        "# Handling Missing Values\n",
        "df.dropna(subset=features + [target], inplace=True)"
      ],
      "metadata": {
        "id": "Zn9E3Xrowy6F"
      },
      "execution_count": null,
      "outputs": []
    },
    {
      "cell_type": "code",
      "source": [
        "# Normalization\n",
        "scaler = MinMaxScaler()\n",
        "X = scaler.fit_transform(df[features].values)"
      ],
      "metadata": {
        "id": "xs8av1I7w1CF"
      },
      "execution_count": null,
      "outputs": []
    },
    {
      "cell_type": "code",
      "source": [
        "# Prepare target variable\n",
        "y = df[target].values"
      ],
      "metadata": {
        "id": "mdY15dhzw5YU"
      },
      "execution_count": null,
      "outputs": []
    },
    {
      "cell_type": "code",
      "source": [
        "# Reshape Data for Conv1D\n",
        "X = X.reshape((X.shape[0], X.shape[1], 1))  # Conv1D input shape: (samples, timesteps, features)"
      ],
      "metadata": {
        "id": "5ouRPZsew9Im"
      },
      "execution_count": null,
      "outputs": []
    },
    {
      "cell_type": "code",
      "source": [
        "# Split Data into Training and Testing Sets\n",
        "X_train, X_test, y_train, y_test = train_test_split(X, y, test_size=0.2, random_state=42)"
      ],
      "metadata": {
        "id": "pd2ZzfwBw_2C"
      },
      "execution_count": null,
      "outputs": []
    },
    {
      "cell_type": "code",
      "source": [
        "# Step 4: Define the CasCN Model with Conv1D Layers\n",
        "input_layer = Input(shape=(X_train.shape[1], X_train.shape[2]))"
      ],
      "metadata": {
        "id": "t9vQxrb9xAWl"
      },
      "execution_count": null,
      "outputs": []
    },
    {
      "cell_type": "code",
      "source": [
        "# Convolutional and Pooling Layers\n",
        "conv_out = Conv1D(64, kernel_size=1, activation='relu')(input_layer)\n",
        "conv_out = MaxPooling1D(pool_size=1)(conv_out)\n",
        "conv_out = Dropout(0.2)(conv_out)\n",
        "conv_out = Conv1D(32, kernel_size=1, activation='relu')(conv_out)\n",
        "conv_out = MaxPooling1D(pool_size=1)(conv_out)\n",
        "conv_out = Dropout(0.2)(conv_out)"
      ],
      "metadata": {
        "id": "wT47fLHTxCMA"
      },
      "execution_count": null,
      "outputs": []
    },
    {
      "cell_type": "code",
      "source": [
        "# Flatten the output for Dense layers\n",
        "flat_out = Flatten()(conv_out)"
      ],
      "metadata": {
        "id": "3AEBA_kQxHLc"
      },
      "execution_count": null,
      "outputs": []
    },
    {
      "cell_type": "code",
      "source": [
        "# Fully Connected Layers\n",
        "dense_out = Dense(64, activation='relu')(flat_out)\n",
        "dense_out = Dropout(0.2)(dense_out)\n",
        "output_layer = Dense(1, activation='linear')(dense_out)"
      ],
      "metadata": {
        "id": "iwp0ikzpxJ5X"
      },
      "execution_count": null,
      "outputs": []
    },
    {
      "cell_type": "code",
      "source": [
        "# Define Model\n",
        "model = Model(inputs=input_layer, outputs=output_layer)"
      ],
      "metadata": {
        "id": "fRDpz0O3xMUF"
      },
      "execution_count": null,
      "outputs": []
    },
    {
      "cell_type": "code",
      "source": [
        "# Compile the Model\n",
        "model.compile(optimizer='adam', loss='mean_squared_error')"
      ],
      "metadata": {
        "id": "cJbzLCaMxQBF"
      },
      "execution_count": null,
      "outputs": []
    },
    {
      "cell_type": "code",
      "source": [
        "# Step 5: Train the Model with Early Stopping\n",
        "early_stopping = EarlyStopping(monitor='val_loss', patience=10, restore_best_weights=True)"
      ],
      "metadata": {
        "id": "wfFwGk12xVPd"
      },
      "execution_count": null,
      "outputs": []
    },
    {
      "cell_type": "code",
      "source": [
        "# Fit the Model\n",
        "history = model.fit(X_train, y_train, epochs=20, batch_size=32, validation_split=0.2, callbacks=[early_stopping])"
      ],
      "metadata": {
        "colab": {
          "base_uri": "https://localhost:8080/"
        },
        "id": "GXAABMXdxnUQ",
        "outputId": "72f3627b-add0-4c7a-cb3e-ea2b2dff2526"
      },
      "execution_count": null,
      "outputs": [
        {
          "output_type": "stream",
          "name": "stdout",
          "text": [
            "Epoch 1/20\n",
            "\u001b[1m68340/68340\u001b[0m \u001b[32m━━━━━━━━━━━━━━━━━━━━\u001b[0m\u001b[37m\u001b[0m \u001b[1m167s\u001b[0m 2ms/step - loss: 2921456.7500 - val_loss: 2839040.7500\n",
            "Epoch 2/20\n",
            "\u001b[1m68340/68340\u001b[0m \u001b[32m━━━━━━━━━━━━━━━━━━━━\u001b[0m\u001b[37m\u001b[0m \u001b[1m180s\u001b[0m 3ms/step - loss: 2886456.0000 - val_loss: 2820949.0000\n",
            "Epoch 3/20\n",
            "\u001b[1m68340/68340\u001b[0m \u001b[32m━━━━━━━━━━━━━━━━━━━━\u001b[0m\u001b[37m\u001b[0m \u001b[1m193s\u001b[0m 3ms/step - loss: 2889872.5000 - val_loss: 2810612.7500\n",
            "Epoch 4/20\n",
            "\u001b[1m68340/68340\u001b[0m \u001b[32m━━━━━━━━━━━━━━━━━━━━\u001b[0m\u001b[37m\u001b[0m \u001b[1m153s\u001b[0m 2ms/step - loss: 2861634.7500 - val_loss: 2809661.0000\n",
            "Epoch 5/20\n",
            "\u001b[1m68340/68340\u001b[0m \u001b[32m━━━━━━━━━━━━━━━━━━━━\u001b[0m\u001b[37m\u001b[0m \u001b[1m218s\u001b[0m 2ms/step - loss: 2842639.5000 - val_loss: 2808861.2500\n",
            "Epoch 6/20\n",
            "\u001b[1m68340/68340\u001b[0m \u001b[32m━━━━━━━━━━━━━━━━━━━━\u001b[0m\u001b[37m\u001b[0m \u001b[1m184s\u001b[0m 2ms/step - loss: 2860666.2500 - val_loss: 2809959.0000\n",
            "Epoch 7/20\n",
            "\u001b[1m68340/68340\u001b[0m \u001b[32m━━━━━━━━━━━━━━━━━━━━\u001b[0m\u001b[37m\u001b[0m \u001b[1m203s\u001b[0m 2ms/step - loss: 2889732.7500 - val_loss: 2808417.0000\n",
            "Epoch 8/20\n",
            "\u001b[1m68340/68340\u001b[0m \u001b[32m━━━━━━━━━━━━━━━━━━━━\u001b[0m\u001b[37m\u001b[0m \u001b[1m153s\u001b[0m 2ms/step - loss: 2844759.7500 - val_loss: 2806862.5000\n",
            "Epoch 9/20\n",
            "\u001b[1m68340/68340\u001b[0m \u001b[32m━━━━━━━━━━━━━━━━━━━━\u001b[0m\u001b[37m\u001b[0m \u001b[1m170s\u001b[0m 2ms/step - loss: 2846061.0000 - val_loss: 2806151.7500\n",
            "Epoch 10/20\n",
            "\u001b[1m68340/68340\u001b[0m \u001b[32m━━━━━━━━━━━━━━━━━━━━\u001b[0m\u001b[37m\u001b[0m \u001b[1m154s\u001b[0m 2ms/step - loss: 2845552.2500 - val_loss: 2807788.2500\n",
            "Epoch 11/20\n",
            "\u001b[1m68340/68340\u001b[0m \u001b[32m━━━━━━━━━━━━━━━━━━━━\u001b[0m\u001b[37m\u001b[0m \u001b[1m200s\u001b[0m 2ms/step - loss: 2865851.7500 - val_loss: 2806452.7500\n",
            "Epoch 12/20\n",
            "\u001b[1m68340/68340\u001b[0m \u001b[32m━━━━━━━━━━━━━━━━━━━━\u001b[0m\u001b[37m\u001b[0m \u001b[1m199s\u001b[0m 2ms/step - loss: 2838420.0000 - val_loss: 2805774.2500\n",
            "Epoch 13/20\n",
            "\u001b[1m68340/68340\u001b[0m \u001b[32m━━━━━━━━━━━━━━━━━━━━\u001b[0m\u001b[37m\u001b[0m \u001b[1m152s\u001b[0m 2ms/step - loss: 2854664.7500 - val_loss: 2805828.7500\n",
            "Epoch 14/20\n",
            "\u001b[1m68340/68340\u001b[0m \u001b[32m━━━━━━━━━━━━━━━━━━━━\u001b[0m\u001b[37m\u001b[0m \u001b[1m154s\u001b[0m 2ms/step - loss: 2837654.7500 - val_loss: 2806601.0000\n",
            "Epoch 15/20\n",
            "\u001b[1m68340/68340\u001b[0m \u001b[32m━━━━━━━━━━━━━━━━━━━━\u001b[0m\u001b[37m\u001b[0m \u001b[1m202s\u001b[0m 2ms/step - loss: 2836171.5000 - val_loss: 2805870.0000\n",
            "Epoch 16/20\n",
            "\u001b[1m68340/68340\u001b[0m \u001b[32m━━━━━━━━━━━━━━━━━━━━\u001b[0m\u001b[37m\u001b[0m \u001b[1m218s\u001b[0m 2ms/step - loss: 2850376.0000 - val_loss: 2805692.5000\n",
            "Epoch 17/20\n",
            "\u001b[1m68340/68340\u001b[0m \u001b[32m━━━━━━━━━━━━━━━━━━━━\u001b[0m\u001b[37m\u001b[0m \u001b[1m184s\u001b[0m 2ms/step - loss: 2854367.2500 - val_loss: 2806405.7500\n",
            "Epoch 18/20\n",
            "\u001b[1m68340/68340\u001b[0m \u001b[32m━━━━━━━━━━━━━━━━━━━━\u001b[0m\u001b[37m\u001b[0m \u001b[1m152s\u001b[0m 2ms/step - loss: 2842599.7500 - val_loss: 2805650.5000\n",
            "Epoch 19/20\n",
            "\u001b[1m68340/68340\u001b[0m \u001b[32m━━━━━━━━━━━━━━━━━━━━\u001b[0m\u001b[37m\u001b[0m \u001b[1m221s\u001b[0m 3ms/step - loss: 2853402.5000 - val_loss: 2804779.7500\n",
            "Epoch 20/20\n",
            "\u001b[1m68340/68340\u001b[0m \u001b[32m━━━━━━━━━━━━━━━━━━━━\u001b[0m\u001b[37m\u001b[0m \u001b[1m172s\u001b[0m 3ms/step - loss: 2857018.5000 - val_loss: 2805938.2500\n"
          ]
        }
      ]
    },
    {
      "cell_type": "code",
      "source": [
        "# Step 6: Evaluate the Model on Test Data\n",
        "y_pred = model.predict(X_test)"
      ],
      "metadata": {
        "colab": {
          "base_uri": "https://localhost:8080/"
        },
        "id": "sdZEyaYyxryD",
        "outputId": "9e636230-3566-40b0-895c-ecf5a05ea07c"
      },
      "execution_count": null,
      "outputs": [
        {
          "output_type": "stream",
          "name": "stdout",
          "text": [
            "\u001b[1m21357/21357\u001b[0m \u001b[32m━━━━━━━━━━━━━━━━━━━━\u001b[0m\u001b[37m\u001b[0m \u001b[1m31s\u001b[0m 1ms/step\n"
          ]
        }
      ]
    },
    {
      "cell_type": "code",
      "source": [
        "# Calculate Evaluation Metrics\n",
        "mse = mean_squared_error(y_test, y_pred)\n",
        "mae = mean_absolute_error(y_test, y_pred)\n",
        "\n",
        "print(f'Mean Squared Error: {mse}')\n",
        "print(f'Mean Absolute Error: {mae}')"
      ],
      "metadata": {
        "colab": {
          "base_uri": "https://localhost:8080/"
        },
        "id": "pErp--vrxwLs",
        "outputId": "ea99d98c-ae03-48a5-af19-426cdbfb1e8d"
      },
      "execution_count": null,
      "outputs": [
        {
          "output_type": "stream",
          "name": "stdout",
          "text": [
            "Mean Squared Error: 2803635.7144296877\n",
            "Mean Absolute Error: 766.2051094680688\n"
          ]
        }
      ]
    },
    {
      "cell_type": "code",
      "source": [
        "# Step 7: Visualize Results\n",
        "plt.figure(figsize=(12, 6))\n",
        "plt.plot(y_test, label='Actual Cascade Size', color='blue', alpha=0.6)\n",
        "plt.plot(y_pred, label='Predicted Cascade Size', color='orange', alpha=0.6)\n",
        "plt.title('Actual vs Predicted Cascade Size (CasCN)')\n",
        "plt.xlabel('Sample Index')\n",
        "plt.ylabel('Cascade Size')\n",
        "plt.legend()\n",
        "plt.show()"
      ],
      "metadata": {
        "colab": {
          "base_uri": "https://localhost:8080/",
          "height": 599
        },
        "id": "w5aGl7UxxyhH",
        "outputId": "08ed90c3-c123-41fb-e0db-48e04b1c9c25"
      },
      "execution_count": null,
      "outputs": [
        {
          "output_type": "stream",
          "name": "stderr",
          "text": [
            "/usr/local/lib/python3.10/dist-packages/IPython/core/pylabtools.py:151: UserWarning: Creating legend with loc=\"best\" can be slow with large amounts of data.\n",
            "  fig.canvas.print_figure(bytes_io, **kw)\n"
          ]
        },
        {
          "output_type": "display_data",
          "data": {
            "text/plain": [
              "<Figure size 1200x600 with 1 Axes>"
            ],
            "image/png": "[encoded data removed]"
          },
          "metadata": {}
        }
      ]
    },
    {
      "cell_type": "markdown",
      "source": [
        "1. This high MSE suggests that, on average, the squared differences between your model's predictions and actual cascade sizes are large, implying significant variation between predicted and true cascade sizes.\n",
        "\n",
        "Implication: MSE is sensitive to large errors due to squaring, so it disproportionately penalizes larger prediction errors. This value indicates that there may be some large deviations in specific predictions.\n",
        "\n",
        "2. This MAE indicates that, on average, the model’s predictions are off by around 766 cascade units (e.g., retweets, followers) from the actual values.\n",
        "\n",
        "Implication: MAE gives a straightforward understanding of prediction errors in the units of the target variable (cascade size) without exaggerating the effect of large errors."
      ],
      "metadata": {
        "id": "tNXRSn9MFeu4"
      }
    }
  ]
}